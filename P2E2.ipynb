import numpy as np
from math import e

# Inicialización de variables y datos
m = 3
learning_rate = 0.01

# Datos de entrada
X = np.array([[0 * e**0],
              [1 * e**1],
              [2 * e**2]])

Y = np.array([[0],
              [1],
              [2]])

Wu = np.array([[0.15, -0.10, 0.12]])
bu = np.array([[0.3, -0.2, 0.07]])

Wy = np.array([[1.4],
               [7.8],
               [3.4]])

by = np.array([[0.5]])

# Definir las variables
V_3 = Wu
V_2 = bu
V_1 = Wy
V0 = by

# Definir la función sigmoide
def sigmoid(x):
    return 1 / (1 + np.exp(-x))

# Forward pass: cálculo de V1, V2, V3 y V4
V1 = X @ V_3 + np.ones((m, 1)) @ V_2
V2 = sigmoid(V1)
V3 = V2 @ V_1 + np.ones((m, 1)) @ V0
V4 = (1 / m) * ((Y - V3).T @ (Y - V3))
f = V4  # Función de coste

# Valores iniciales de los parámetros y coste inicial
print("Coste inicial:", f)
print("Wu inicial:", Wu)
print("bu inicial:", bu)
print("Wy inicial:\n", Wy)
print("by inicial:", by)

# Backward pass: cálculo de los gradientes
V4_grad = 1
V3_grad = -2 * (Y - V3)
V2_grad = V3_grad @ V_1.T
V1_grad = V2_grad * V2 * (np.ones((V2.shape[0], V2.shape[1])) - V2)
V0_grad = np.ones((m, 1)).T @ V3_grad
V_1_grad = V2.T @ V3_grad
V_2_grad = np.ones((m, 1)).T @ V1_grad
V_3_grad = X.T @ V1_grad

# Actualizar los parámetros Wu, bu, Wy y by
Wu -= learning_rate * V_3_grad
bu -= learning_rate * V_2_grad
Wy -= learning_rate * V_1_grad
by -= learning_rate * V0_grad

# Calcular la función de coste final
V1 = X @ Wu + np.ones((m, 1)) @ bu
V2 = sigmoid(V1)
V3 = V2 @ Wy + np.ones((m, 1)) @ by
V4 = (1 / m) * ((Y - V3).T @ (Y - V3))
f = V4  # Función de coste

# Valores finales de los parámetros y coste final
print("Coste final:", f)
print("Wu final:", Wu)
print("bu final:", bu)
print("Wy final:\n", Wy)
print("by final:", by)

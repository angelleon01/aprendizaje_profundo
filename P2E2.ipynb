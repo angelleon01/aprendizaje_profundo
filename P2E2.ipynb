{
 "cells": [
  {
   "cell_type": "markdown",
   "metadata": {},
   "source": [
    "# Ejercicio 3"
   ]
  },
  {
   "cell_type": "markdown",
   "metadata": {},
   "source": [
    "![Texto alternativo](questions/1.png \"Question 1\")"
   ]
  },
  {
   "cell_type": "code",
   "execution_count": 1,
   "metadata": {},
   "outputs": [],
   "source": [
    "from math import e\n",
    "x_0 = 0*e**0\n",
    "x_1 = 1*e**1\n",
    "x_2 = 2*e**2\n",
    "\n",
    "y_0 = 0\n",
    "y_1 = 1\n",
    "y_2 = 2"
   ]
  },
  {
   "cell_type": "markdown",
   "metadata": {},
   "source": [
    "![Texto alternativo](questions/2.png \"Question 2\")"
   ]
  },
  {
   "cell_type": "code",
   "execution_count": null,
   "metadata": {},
   "outputs": [
    {
     "name": "stdout",
     "output_type": "stream",
     "text": [
      "Coste inicial: [[29.59559685]]\n",
      "Wu inicial: [[ 0.15 -0.1   0.12]]\n",
      "bu inicial: [[ 0.3  -0.2   0.07]]\n",
      "Wy inicial:\n",
      " [[1.4]\n",
      " [7.8]\n",
      " [3.4]]\n",
      "by inicial: [[0.5]]\n",
      "Coste final: [[8.32204508]]\n",
      "Wu final: [[-0.05521983 -1.85867302 -0.59227362]]\n",
      "bu final: [[ 0.21348514 -0.7375395  -0.16277857]]\n",
      "Wy final:\n",
      " [[1.17796   ]\n",
      " [7.68633727]\n",
      " [3.1982405 ]]\n",
      "by final: [[0.17999344]]\n"
     ]
    }
   ],
   "source": [
    "import numpy as np\n",
    "from math import e\n",
    "\n",
    "# Inicialización de variables y datos\n",
    "m = 3\n",
    "learning_rate = 0.01\n",
    "\n",
    "# Datos de entrada\n",
    "X = np.array([[0 * e**0],\n",
    "              [1 * e**1],\n",
    "              [2 * e**2]])\n",
    "\n",
    "Y = np.array([[0],\n",
    "              [1],\n",
    "              [2]])\n",
    "\n",
    "Wu = np.array([[0.15, -0.10, 0.12]])\n",
    "bu = np.array([[0.3, -0.2, 0.07]])\n",
    "\n",
    "Wy = np.array([[1.4],\n",
    "               [7.8],\n",
    "               [3.4]])\n",
    "\n",
    "by = np.array([[0.5]])\n",
    "\n",
    "# Definir las variables\n",
    "V_3 = Wu\n",
    "V_2 = bu\n",
    "V_1 = Wy\n",
    "V0 = by\n",
    "\n",
    "# Definir la función sigmoide\n",
    "def sigmoid(x):\n",
    "    return 1 / (1 + np.exp(-x))\n",
    "\n",
    "# Forward pass: cálculo de V1, V2, V3 y V4\n",
    "V1 = X @ V_3 + np.ones((m, 1)) @ V_2\n",
    "V2 = sigmoid(V1)\n",
    "V3 = V2 @ V_1 + np.ones((m, 1)) @ V0\n",
    "V4 = (1 / m) * ((Y - V3).T @ (Y - V3))\n",
    "f = V4  # Función de coste\n",
    "\n",
    "# Valores iniciales de los parámetros y coste inicial\n",
    "print(\"Coste inicial:\", f)\n",
    "print(\"Wu inicial:\", Wu)\n",
    "print(\"bu inicial:\", bu)\n",
    "print(\"Wy inicial:\\n\", Wy)\n",
    "print(\"by inicial:\", by)\n",
    "\n",
    "# Backward pass: cálculo de los gradientes\n",
    "V4_grad = 1\n",
    "V3_grad = -2 * (Y - V3)\n",
    "V2_grad = V3_grad @ V_1.T\n",
    "V1_grad = V2_grad * V2 * (np.ones((V2.shape[0], V2.shape[1])) - V2)\n",
    "V0_grad = np.ones((m, 1)).T @ V3_grad\n",
    "V_1_grad = V2.T @ V3_grad\n",
    "V_2_grad = np.ones((m, 1)).T @ V1_grad\n",
    "V_3_grad = X.T @ V1_grad\n",
    "\n",
    "# Actualizar los parámetros Wu, bu, Wy y by\n",
    "Wu -= learning_rate * V_3_grad\n",
    "bu -= learning_rate * V_2_grad\n",
    "Wy -= learning_rate * V_1_grad\n",
    "by -= learning_rate * V0_grad\n",
    "\n",
    "# Calcular la función de coste final\n",
    "V1 = X @ Wu + np.ones((m, 1)) @ bu\n",
    "V2 = sigmoid(V1)\n",
    "V3 = V2 @ Wy + np.ones((m, 1)) @ by\n",
    "V4 = (1 / m) * ((Y - V3).T @ (Y - V3))\n",
    "f = V4  # Función de coste\n",
    "\n",
    "# Valores finales de los parámetros y coste final\n",
    "print(\"Coste final:\", f)\n",
    "print(\"Wu final:\", Wu)\n",
    "print(\"bu final:\", bu)\n",
    "print(\"Wy final:\\n\", Wy)\n",
    "print(\"by final:\", by)\n"
   ]
  },
  {
   "cell_type": "markdown",
   "metadata": {},
   "source": [
    "![Texto alternativo](questions/3.png \"Question 3\")"
   ]
  },
  {
   "cell_type": "markdown",
   "metadata": {},
   "source": []
  }
 ],
 "metadata": {
  "kernelspec": {
   "display_name": "AP",
   "language": "python",
   "name": "python3"
  },
  "language_info": {
   "codemirror_mode": {
    "name": "ipython",
    "version": 3
   },
   "file_extension": ".py",
   "mimetype": "text/x-python",
   "name": "python",
   "nbconvert_exporter": "python",
   "pygments_lexer": "ipython3",
   "version": "3.10.15"
  }
 },
 "nbformat": 4,
 "nbformat_minor": 2
}

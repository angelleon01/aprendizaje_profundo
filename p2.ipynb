{
 "cells": [
  {
   "cell_type": "markdown",
   "metadata": {},
   "source": [
    "# Ejercicio 3"
   ]
  },
  {
   "cell_type": "markdown",
   "metadata": {},
   "source": [
    "![Texto alternativo](questions/1.png \"Question 1\")"
   ]
  },
  {
   "cell_type": "code",
   "execution_count": 31,
   "metadata": {},
   "outputs": [],
   "source": [
    "from math import e\n",
    "x_0 = 0*e**0\n",
    "x_1 = 1*e**1\n",
    "x_2 = 2*e**2\n",
    "\n",
    "y_0 = 0\n",
    "y_1 = 1\n",
    "y_2 = 2"
   ]
  },
  {
   "cell_type": "markdown",
   "metadata": {},
   "source": [
    "![Texto alternativo](questions/2.png \"Question 2\")"
   ]
  },
  {
   "cell_type": "code",
   "execution_count": null,
   "metadata": {},
   "outputs": [
    {
     "name": "stdout",
     "output_type": "stream",
     "text": [
      "Y -> [[29.59559685]]\n"
     ]
    }
   ],
   "source": [
    "import numpy as np\n",
    "from math import e\n",
    "\n",
    "m = 3\n",
    "\n",
    "X = np.array([[0*e**0],\n",
    "              [1*e**1],\n",
    "              [2*e**2]])\n",
    "\n",
    "Y = np.array([[0],\n",
    "              [1],\n",
    "              [2]])\n",
    "\n",
    "Wu = np.array([[0.15, -0.10, 0.12]])\n",
    "\n",
    "bu = np.array([[0.3, -0.2, 0.07]])\n",
    "\n",
    "Wy = np.array([[1.4],\n",
    "               [7.8],\n",
    "               [3.4]])\n",
    "\n",
    "by = np.array([[0.5]])\n",
    "\n",
    "# Sigmoid of a matrix\n",
    "def sigmoid(x):\n",
    "    return 1 / (1 + e**-x)\n",
    "\n",
    "V_3 = Wu\n",
    "V_2 = bu\n",
    "V_1 = Wy\n",
    "V0 = by\n",
    "\n",
    "V1 = X @ V_3 + np.ones((m, 1)) @ V_2\n",
    "\n",
    "V2 = sigmoid(V1)\n",
    "\n",
    "V3 = V2 @ V_1 + np.ones((m, 1)) @ V0\n",
    "\n",
    "V4 = 1/m * ((Y - V3).T @ (Y - V3))\n",
    "Y, f = V4, V4\n",
    "\n",
    "print(\"Y ->\", Y)"
   ]
  },
  {
   "cell_type": "markdown",
   "metadata": {},
   "source": [
    "![Texto alternativo](questions/3.png \"Question 3\")"
   ]
  },
  {
   "cell_type": "markdown",
   "metadata": {},
   "source": []
  }
 ],
 "metadata": {
  "kernelspec": {
   "display_name": "AP",
   "language": "python",
   "name": "python3"
  },
  "language_info": {
   "codemirror_mode": {
    "name": "ipython",
    "version": 3
   },
   "file_extension": ".py",
   "mimetype": "text/x-python",
   "name": "python",
   "nbconvert_exporter": "python",
   "pygments_lexer": "ipython3",
   "version": "3.10.15"
  }
 },
 "nbformat": 4,
 "nbformat_minor": 2
}
